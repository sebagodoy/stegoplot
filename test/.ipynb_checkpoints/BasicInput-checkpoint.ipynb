{
 "cells": [
  {
   "cell_type": "code",
   "execution_count": 2,
   "id": "ebdbab37",
   "metadata": {},
   "outputs": [
    {
     "data": {
      "text/plain": [
       "'/home/seba/Thesis/Stego/test'"
      ]
     },
     "execution_count": 2,
     "metadata": {},
     "output_type": "execute_result"
    }
   ],
   "source": [
    "import os\n",
    "os.getcwd()"
   ]
  },
  {
   "cell_type": "code",
   "execution_count": 3,
   "id": "3e806da5",
   "metadata": {},
   "outputs": [
    {
     "ename": "ModuleNotFoundError",
     "evalue": "No module named 'stego'",
     "output_type": "error",
     "traceback": [
      "\u001b[0;31m---------------------------------------------------------------------------\u001b[0m",
      "\u001b[0;31mModuleNotFoundError\u001b[0m                       Traceback (most recent call last)",
      "Cell \u001b[0;32mIn[3], line 1\u001b[0m\n\u001b[0;32m----> 1\u001b[0m \u001b[38;5;28;01mimport\u001b[39;00m \u001b[38;5;21;01mstego\u001b[39;00m \u001b[38;5;28;01mas\u001b[39;00m \u001b[38;5;21;01mstg\u001b[39;00m\n\u001b[1;32m      2\u001b[0m H2O \u001b[38;5;241m=\u001b[39m stg\u001b[38;5;241m.\u001b[39mitems\u001b[38;5;241m.\u001b[39mGas(Name\u001b[38;5;241m=\u001b[39m\u001b[38;5;124m'\u001b[39m\u001b[38;5;124mH2O\u001b[39m\u001b[38;5;124m'\u001b[39m, E0\u001b[38;5;241m=\u001b[39m\u001b[38;5;241m-\u001b[39m\u001b[38;5;241m14.14745554\u001b[39m, FreqR\u001b[38;5;241m=\u001b[39m[\u001b[38;5;241m3833.413608\u001b[39m, \u001b[38;5;241m3721.047191\u001b[39m, \u001b[38;5;241m1597.447164\u001b[39m],\n\u001b[1;32m      3\u001b[0m                     Geometry\u001b[38;5;241m=\u001b[39m\u001b[38;5;124m'\u001b[39m\u001b[38;5;124mPoliatomic\u001b[39m\u001b[38;5;124m'\u001b[39m, Mass\u001b[38;5;241m=\u001b[39m\u001b[38;5;241m18.00\u001b[39m, RotT\u001b[38;5;241m=\u001b[39m[\u001b[38;5;241m40.1\u001b[39m, \u001b[38;5;241m20.9\u001b[39m, \u001b[38;5;241m13.4\u001b[39m], RotSymNum\u001b[38;5;241m=\u001b[39m\u001b[38;5;241m2\u001b[39m)\n",
      "\u001b[0;31mModuleNotFoundError\u001b[0m: No module named 'stego'"
     ]
    }
   ],
   "source": [
    "import stego as stg\n",
    "H2O = stg.items.Gas(Name='H2O', E0=-14.14745554, FreqR=[3833.413608, 3721.047191, 1597.447164],\n",
    "                    Geometry='Poliatomic', Mass=18.00, RotT=[40.1, 20.9, 13.4], RotSymNum=2)"
   ]
  },
  {
   "cell_type": "code",
   "execution_count": 7,
   "id": "8a311e37",
   "metadata": {},
   "outputs": [
    {
     "ename": "NameError",
     "evalue": "name 'H2O' is not defined",
     "output_type": "error",
     "traceback": [
      "\u001b[0;31m---------------------------------------------------------------------------\u001b[0m",
      "\u001b[0;31mNameError\u001b[0m                                 Traceback (most recent call last)",
      "Cell \u001b[0;32mIn[7], line 1\u001b[0m\n\u001b[0;32m----> 1\u001b[0m \u001b[43mH2O\u001b[49m\u001b[38;5;241m.\u001b[39mE0\n",
      "\u001b[0;31mNameError\u001b[0m: name 'H2O' is not defined"
     ]
    }
   ],
   "source": [
    "H2O.E0"
   ]
  },
  {
   "cell_type": "code",
   "execution_count": null,
   "id": "751f8757",
   "metadata": {},
   "outputs": [],
   "source": []
  },
  {
   "cell_type": "code",
   "execution_count": null,
   "id": "277436e3",
   "metadata": {},
   "outputs": [],
   "source": []
  }
 ],
 "metadata": {
  "kernelspec": {
   "display_name": "Python 3 (ipykernel)",
   "language": "python",
   "name": "python3"
  },
  "language_info": {
   "codemirror_mode": {
    "name": "ipython",
    "version": 3
   },
   "file_extension": ".py",
   "mimetype": "text/x-python",
   "name": "python",
   "nbconvert_exporter": "python",
   "pygments_lexer": "ipython3",
   "version": "3.8.10"
  }
 },
 "nbformat": 4,
 "nbformat_minor": 5
}
