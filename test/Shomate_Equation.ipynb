{
 "cells": [
  {
   "cell_type": "markdown",
   "id": "c84904ca",
   "metadata": {},
   "source": [
    "## Shomate equation\n",
    "The Shomate equation is used to estimate standart formation enthalpy, entropy and specific heat from fitted parameters commonly available in several databases such as [NIST](https://webbook.nist.gov/cgi/cbook.cgi?ID=C7732185&Type=JANAFL&Table=on). The NIST format is:\n",
    "\n",
    "$$\n",
    "C_p^\\circ = A + Bt + Ct^2 + Dt^3 + E/t^2\\\\\n",
    "H^\\circ - H^\\circ_{298.15K}= At + Bt^2/2 + Ct^3/3 + Dt^4/4 - E/t + F -H\\\\\n",
    "S^\\circ = A\\ln{t} + Bt + Ct^2/2 + Dt^3/3 -E/(2t^2) + G\n",
    "$$\n",
    "\n",
    "with $A$, $B$, $C$, $D$ and $E$ constants, $C_p$ heat capacity in $J/mol K$, $H^\\circ$ the standard enthapy in $kJ/mol$, $S^\\circ$ standard entropy in $J/molK$ and $t$ as the temperature in $K$ over $1000$ ($t=$temp.$/1000$)."
   ]
  },
  {
   "cell_type": "markdown",
   "id": "3c5c606d",
   "metadata": {},
   "source": [
    "The shomate equation is included in the stego package taking as input a dictionary with the constants and standard values of $H^\\circ$ and $S^\\circ$."
   ]
  },
  {
   "cell_type": "code",
   "execution_count": 1,
   "id": "8569f5e2",
   "metadata": {},
   "outputs": [
    {
     "ename": "ModuleNotFoundError",
     "evalue": "No module named 'stegoplot'",
     "output_type": "error",
     "traceback": [
      "\u001b[0;31m---------------------------------------------------------------------------\u001b[0m",
      "\u001b[0;31mModuleNotFoundError\u001b[0m                       Traceback (most recent call last)",
      "Cell \u001b[0;32mIn[1], line 1\u001b[0m\n\u001b[0;32m----> 1\u001b[0m \u001b[38;5;28;01mimport\u001b[39;00m \u001b[38;5;21;01mstegoplot\u001b[39;00m \u001b[38;5;28;01mas\u001b[39;00m \u001b[38;5;21;01mstg\u001b[39;00m\n",
      "\u001b[0;31mModuleNotFoundError\u001b[0m: No module named 'stegoplot'"
     ]
    }
   ],
   "source": [
    "import stegoplot as stg"
   ]
  },
  {
   "cell_type": "code",
   "execution_count": null,
   "id": "81f4a889",
   "metadata": {},
   "outputs": [],
   "source": []
  },
  {
   "cell_type": "code",
   "execution_count": null,
   "id": "74a55d96",
   "metadata": {},
   "outputs": [],
   "source": []
  }
 ],
 "metadata": {
  "kernelspec": {
   "display_name": "venvclear",
   "language": "python",
   "name": "venvclear"
  },
  "language_info": {
   "codemirror_mode": {
    "name": "ipython",
    "version": 3
   },
   "file_extension": ".py",
   "mimetype": "text/x-python",
   "name": "python",
   "nbconvert_exporter": "python",
   "pygments_lexer": "ipython3",
   "version": "3.8.10"
  }
 },
 "nbformat": 4,
 "nbformat_minor": 5
}
